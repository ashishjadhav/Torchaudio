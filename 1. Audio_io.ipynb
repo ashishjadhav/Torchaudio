{
 "cells": [
  {
   "cell_type": "markdown",
   "metadata": {},
   "source": [
    "## We will learn about 3 functions related to Audio I/O in torchaudio"
   ]
  },
  {
   "cell_type": "code",
   "execution_count": 1,
   "metadata": {},
   "outputs": [],
   "source": [
    "# Import the pytorch main library and torch for audio library\n",
    "\n",
    "import torch\n",
    "import torchaudio"
   ]
  },
  {
   "cell_type": "code",
   "execution_count": 2,
   "metadata": {},
   "outputs": [
    {
     "name": "stdout",
     "output_type": "stream",
     "text": [
      "2.1.2\n",
      "2.1.2\n"
     ]
    }
   ],
   "source": [
    "# Print the versions \n",
    "print(torch.__version__)\n",
    "print(torchaudio.__version__)"
   ]
  },
  {
   "cell_type": "code",
   "execution_count": 3,
   "metadata": {},
   "outputs": [],
   "source": [
    "# for file handling\n",
    "import io\n",
    "import os\n",
    "import tarfile\n",
    "import tempfile\n",
    "\n",
    "# for accessing AWS services\n",
    "import boto3\n",
    "\n",
    "# for plotting \n",
    "import matplotlib.pyplot as plt\n",
    "\n",
    "# for handling HTTP requests \n",
    "import requests\n",
    "\n",
    "from botocore import UNSIGNED\n",
    "from botocore.config import Config\n",
    "\n",
    "# for display audio in jupyter\n",
    "from IPython.display import Audio\n",
    "\n",
    "# for downloading files\n",
    "from torchaudio.utils import download_asset\n",
    "\n"
   ]
  },
  {
   "cell_type": "markdown",
   "metadata": {},
   "source": [
    "## `1 : download_asset()`\n",
    "\n",
    "**Purpose:** This function downloads an asset from the given URL and returns the file path.\n",
    "\n",
    "**Input:** \n",
    "\n",
    "- `url` (string): The URL of the asset to be downloaded.\n",
    "\n",
    "**Output:** \n",
    "\n",
    "- `file_path` (string): The path of the downloaded file."
   ]
  },
  {
   "cell_type": "code",
   "execution_count": 4,
   "metadata": {},
   "outputs": [
    {
     "name": "stdout",
     "output_type": "stream",
     "text": [
      "<class 'str'>\n",
      "/Users/ashish/.cache/torch/hub/torchaudio/tutorial-assets/steam-train-whistle-daniel_simon.gsm\n"
     ]
    }
   ],
   "source": [
    "# Download the files and return a string of path of the downloaded file on local system\n",
    "\n",
    "SAMPLE_GSM = download_asset(key = \"tutorial-assets/steam-train-whistle-daniel_simon.gsm\")\n",
    "SAMPLE_WAV = download_asset(\"tutorial-assets/Lab41-SRI-VOiCES-src-sp0307-ch127535-sg0042.wav\")\n",
    "SAMPLE_WAV_8000 = download_asset(\"tutorial-assets/Lab41-SRI-VOiCES-src-sp0307-ch127535-sg0042-8000hz.wav\")\n",
    "\n",
    "# Lets print those paths to see where pytorch is downloading the files\n",
    "print(type(SAMPLE_GSM))\n",
    "print(SAMPLE_GSM)\n"
   ]
  },
  {
   "cell_type": "code",
   "execution_count": 5,
   "metadata": {},
   "outputs": [],
   "source": [
    "def _hide_seek(obj):\n",
    "    class _wrapper:\n",
    "        def __init__(self, obj):\n",
    "            self.obj = obj\n",
    "\n",
    "        def read(self, n):\n",
    "            return self.obj.read(n)\n",
    "\n",
    "    return _wrapper(obj)"
   ]
  },
  {
   "cell_type": "markdown",
   "metadata": {},
   "source": [
    "`filelike` - An object from a class having `__fspath__()` method and returns the path of the file\n",
    "`pathlike` - An object from a class which includes methods such as `read()`,` write()`, `close()`, `seek()`."
   ]
  },
  {
   "cell_type": "markdown",
   "metadata": {},
   "source": [
    "## `2 : torchaudio.info()`\n",
    "\n",
    "**Purpose:** This function returns the information of the given audio file.\n",
    "\n",
    "**Input:** \n",
    "\n",
    "- `pathlike` (string): The path of the audio file.\n",
    "- `filelike` (aspecifically an object that has methods similar to those found on a file object): The file-like object of the audio file.\n",
    "\n",
    "**Output:** \n",
    "\n",
    "- `info` (dict): A class containing the information of the audio file."
   ]
  },
  {
   "cell_type": "code",
   "execution_count": 6,
   "metadata": {},
   "outputs": [
    {
     "name": "stdout",
     "output_type": "stream",
     "text": [
      "<class 'torchaudio._backend.common.AudioMetaData'>\n",
      "AudioMetaData(sample_rate=16000, num_frames=54400, num_channels=1, bits_per_sample=16, encoding=PCM_S)\n"
     ]
    }
   ],
   "source": [
    "# Example of taking input as pathlike object \n",
    "metadata = torchaudio.info(SAMPLE_WAV)\n",
    "print(type(metadata))\n",
    "print(metadata)"
   ]
  },
  {
   "cell_type": "code",
   "execution_count": 7,
   "metadata": {},
   "outputs": [
    {
     "name": "stdout",
     "output_type": "stream",
     "text": [
      "AudioMetaData(sample_rate=44100, num_frames=109368, num_channels=2, bits_per_sample=16, encoding=PCM_S)\n"
     ]
    }
   ],
   "source": [
    "# Example of taking input as filelike object \n",
    "url = \"https://download.pytorch.org/torchaudio/tutorial-assets/steam-train-whistle-daniel_simon.wav\"\n",
    "with requests.get(url, stream=True) as response:\n",
    "    # implementation of function on filelike objects \n",
    "    metadata = torchaudio.info(_hide_seek(response.raw))\n",
    "print(metadata)"
   ]
  },
  {
   "cell_type": "markdown",
   "metadata": {},
   "source": [
    "## `3 : torchaudio.load()`\n",
    "\n",
    "**Purpose:** This function converts an audio file to a tensor.\n",
    "\n",
    "**Input:** \n",
    "\n",
    "- `pathlike` (string): The path of the audio file.\n",
    "- or  `filelike` (file-like object): The file-like object of the audio file.\n",
    "\n",
    "**Output:** \n",
    "\n",
    "- `tuple` (Tensor, int ): Returns a tuple conataining tensor and sampling rate"
   ]
  },
  {
   "cell_type": "markdown",
   "metadata": {},
   "source": [
    "### Example of taking input as pathlike object  "
   ]
  },
  {
   "cell_type": "code",
   "execution_count": 8,
   "metadata": {},
   "outputs": [
    {
     "name": "stdout",
     "output_type": "stream",
     "text": [
      " tensor([[0.0183, 0.0180, 0.0180,  ..., 0.0018, 0.0019, 0.0032]]).\n",
      " torch.Size([1, 54400]) \n",
      " <class 'torch.Tensor'>\n",
      "16000 \n",
      "<class 'int'>\n"
     ]
    }
   ],
   "source": [
    "\n",
    "waveform, sample_rate = torchaudio.load(SAMPLE_WAV)\n",
    "\n",
    "print(f\" {waveform}.\\n {waveform.shape} \\n {type(waveform)}\")\n",
    "print(f\"{sample_rate} \\n{type(sample_rate)}\")\n",
    "\n"
   ]
  },
  {
   "cell_type": "code",
   "execution_count": 9,
   "metadata": {},
   "outputs": [
    {
     "name": "stdout",
     "output_type": "stream",
     "text": [
      " tensor([[0.0183],\n",
      "        [0.0180],\n",
      "        [0.0180],\n",
      "        ...,\n",
      "        [0.0018],\n",
      "        [0.0019],\n",
      "        [0.0032]]).\n",
      " torch.Size([54400, 1]) \n",
      " <class 'torch.Tensor'>\n"
     ]
    }
   ],
   "source": [
    "# channels_first argument can be passed to change the shape of loaded tensor.\n",
    "waveform2, sample_rate2 = torchaudio.load(SAMPLE_WAV, channels_first=False )\n",
    "print(f\" {waveform2}.\\n {waveform2.shape} \\n {type(waveform2)}\")"
   ]
  },
  {
   "cell_type": "markdown",
   "metadata": {},
   "source": [
    "### Example of taking input as filelike object  "
   ]
  },
  {
   "cell_type": "code",
   "execution_count": 10,
   "metadata": {},
   "outputs": [
    {
     "name": "stdout",
     "output_type": "stream",
     "text": [
      "tensor([[0.0183, 0.0180, 0.0180,  ..., 0.0018, 0.0019, 0.0032]])\n",
      "16000\n"
     ]
    },
    {
     "data": {
      "text/plain": [
       "5410862080"
      ]
     },
     "execution_count": 10,
     "metadata": {},
     "output_type": "execute_result"
    }
   ],
   "source": [
    "# Load audio data from file like  raw format\n",
    "url = \"https://download.pytorch.org/torchaudio/tutorial-assets/Lab41-SRI-VOiCES-src-sp0307-ch127535-sg0042.wav\"\n",
    "with requests.get(url, stream=True) as response:\n",
    "    waveform1, sample_rate1 = torchaudio.load(_hide_seek(response.raw))\n",
    "print(f\"{waveform1}\")\n",
    "print(sample_rate1)\n",
    "id(waveform1)"
   ]
  },
  {
   "cell_type": "code",
   "execution_count": 11,
   "metadata": {},
   "outputs": [
    {
     "name": "stdout",
     "output_type": "stream",
     "text": [
      "tensor([[0.0183, 0.0180, 0.0180,  ..., 0.0018, 0.0019, 0.0032]])\n"
     ]
    }
   ],
   "source": [
    "# Load audio from tar file \n",
    "tar_path = download_asset(\"tutorial-assets/VOiCES_devkit.tar.gz\")\n",
    "tar_item = \"VOiCES_devkit/source-16k/train/sp0307/Lab41-SRI-VOiCES-src-sp0307-ch127535-sg0042.wav\"\n",
    "with tarfile.open(tar_path, mode=\"r\") as tarfile_:\n",
    "    fileobj = tarfile_.extractfile(tar_item)\n",
    "    waveform2, sample_rate2 = torchaudio.load(fileobj)\n",
    "    \n",
    "print(waveform2)    "
   ]
  },
  {
   "cell_type": "markdown",
   "metadata": {},
   "source": [
    "## `3 : torchaudio.save()`\n",
    "\n",
    "**Purpose:** This function saves a tensor to an audio format or any filelike format \n",
    "\n",
    "**Input:** \n",
    "\n",
    "- `pathlike` (string): The path where audio file is to be saved.\n",
    "- `Tensor`: Data to be saved\n",
    "- `Sample Rate` : The sample rate of the audio file\n",
    "**Output:** \n",
    "\n",
    "- `None` : Saves the tensor to the given path"
   ]
  },
  {
   "cell_type": "code",
   "execution_count": 12,
   "metadata": {},
   "outputs": [],
   "source": [
    "def inspect_file(path):\n",
    "    print(\"-\" * 10)\n",
    "    print(\"Source:\", path)\n",
    "    print(\"-\" * 10)\n",
    "    print(f\" - File size: {os.path.getsize(path)} bytes\")\n",
    "    print(f\" - {torchaudio.info(path)}\")\n",
    "    print()"
   ]
  },
  {
   "cell_type": "code",
   "execution_count": 13,
   "metadata": {},
   "outputs": [
    {
     "name": "stdout",
     "output_type": "stream",
     "text": [
      "----------\n",
      "Source: /var/folders/ty/vmyg3z293jsfb3yvlyrwvgg00000gp/T/tmpu1tr_pdf/save_example_default.wav\n",
      "----------\n",
      " - File size: 108878 bytes\n",
      " - AudioMetaData(sample_rate=16000, num_frames=54400, num_channels=1, bits_per_sample=16, encoding=PCM_S)\n",
      "\n"
     ]
    }
   ],
   "source": [
    "with tempfile.TemporaryDirectory() as tempdir:\n",
    "    path = f\"{tempdir}/save_example_default.wav\"\n",
    "    torchaudio.save(path, waveform, sample_rate)\n",
    "    inspect_file(path)"
   ]
  },
  {
   "cell_type": "code",
   "execution_count": 14,
   "metadata": {},
   "outputs": [],
   "source": [
    "formats = [\n",
    "    \"flac\",\n",
    "     \"vorbis\",\n",
    "    # \"sph\",\n",
    "    # \"amb\",\n",
    "    # \"amr-nb\",\n",
    "    # \"gsm\",\n",
    "]"
   ]
  },
  {
   "cell_type": "code",
   "execution_count": 15,
   "metadata": {},
   "outputs": [
    {
     "name": "stdout",
     "output_type": "stream",
     "text": [
      "----------\n",
      "Source: /var/folders/ty/vmyg3z293jsfb3yvlyrwvgg00000gp/T/tmp4rjt1u3d/save_example.flac\n",
      "----------\n",
      " - File size: 45264 bytes\n",
      " - AudioMetaData(sample_rate=8000, num_frames=27200, num_channels=1, bits_per_sample=16, encoding=FLAC)\n",
      "\n",
      "----------\n",
      "Source: /var/folders/ty/vmyg3z293jsfb3yvlyrwvgg00000gp/T/tmp4rjt1u3d/save_example.vorbis\n",
      "----------\n",
      " - File size: 19253 bytes\n",
      " - AudioMetaData(sample_rate=8000, num_frames=26624, num_channels=2, bits_per_sample=0, encoding=VORBIS)\n",
      "\n"
     ]
    },
    {
     "name": "stderr",
     "output_type": "stream",
     "text": [
      "[W encode_process.cpp:173] Warning: \"vorbis\" encoder is selected. Enabling '-strict experimental'. If this is not desired, please provide \"strict\" encoder option with desired value. (function operator())\n"
     ]
    }
   ],
   "source": [
    "waveform, sample_rate = torchaudio.load(SAMPLE_WAV_8000)\n",
    "with tempfile.TemporaryDirectory() as tempdir:\n",
    "    for format in formats:\n",
    "        path = f\"{tempdir}/save_example.{format}\"\n",
    "        torchaudio.save(path, waveform, sample_rate, format=format)\n",
    "        inspect_file(path)"
   ]
  }
 ],
 "metadata": {
  "kernelspec": {
   "display_name": "pytorchenv",
   "language": "python",
   "name": "python3"
  },
  "language_info": {
   "codemirror_mode": {
    "name": "ipython",
    "version": 3
   },
   "file_extension": ".py",
   "mimetype": "text/x-python",
   "name": "python",
   "nbconvert_exporter": "python",
   "pygments_lexer": "ipython3",
   "version": "3.8.18"
  }
 },
 "nbformat": 4,
 "nbformat_minor": 2
}
